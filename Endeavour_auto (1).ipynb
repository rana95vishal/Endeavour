{
 "cells": [
  {
   "cell_type": "code",
   "execution_count": 75,
   "metadata": {
    "collapsed": false
   },
   "outputs": [
    {
     "data": {
      "text/plain": [
       "'Uploads list of testing (target) and training genes and downloads the resulting ranked list of genes returned by Endeavour as a .csv file.'"
      ]
     },
     "execution_count": 75,
     "metadata": {},
     "output_type": "execute_result"
    }
   ],
   "source": [
    "'''Uploads list of testing (target) and training genes and downloads the resulting ranked list of genes returned by Endeavour as a .csv file.'''"
   ]
  },
  {
   "cell_type": "code",
   "execution_count": 76,
   "metadata": {
    "collapsed": false
   },
   "outputs": [],
   "source": [
    "from selenium import webdriver\n",
    "from selenium.webdriver.common.by import By\n",
    "from selenium.webdriver.support.ui import WebDriverWait\n",
    "from selenium.webdriver.support import expected_conditions as ec\n",
    "import time "
   ]
  },
  {
   "cell_type": "code",
   "execution_count": 77,
   "metadata": {
    "collapsed": false
   },
   "outputs": [],
   "source": [
    "#create a webdriver element and open the required webpage\n",
    "#specify path to chromedriver\n",
    "driver = webdriver.Chrome(\"C:\\Users\\Vishal\\Downloads/chromedriver_win32/chromedriver.exe\")\n",
    "driver.get('https://endeavour.esat.kuleuven.be/Endeavour.aspx')\n"
   ]
  },
  {
   "cell_type": "code",
   "execution_count": 78,
   "metadata": {
    "collapsed": true
   },
   "outputs": [],
   "source": [
    "#finds next button on Species tab\n",
    "next_button = driver.find_element_by_id('MainContent_uc_endeavour1_btn_Species_next')\n",
    "next_button.click()"
   ]
  },
  {
   "cell_type": "code",
   "execution_count": 79,
   "metadata": {
    "collapsed": false
   },
   "outputs": [],
   "source": [
    "#change selection of data type from gene to tab\n",
    "#hidden elements can't be manipulated directly\n",
    "\n",
    "elem_hidden = driver.find_element_by_xpath( '//*[@id=\"ctl00_MainContent_uc_endeavour1_RTS_TrainingGene\"]/div/ul/li[1]/a')\n",
    "driver.execute_script('''\n",
    "                        arguments[0].setAttribute('class','rtsLink');\n",
    "                       ''',elem_hidden)\n",
    "\n",
    "elem_hidden = driver.find_element_by_xpath( '//*[@id=\"ctl00_MainContent_uc_endeavour1_RTS_TrainingGene\"]/div/ul/li[2]/a')\n",
    "driver.execute_script('''\n",
    "                        arguments[0].setAttribute('class','rtsLink');\n",
    "                       ''',elem_hidden) \n",
    "\n",
    "elem_hidden = driver.find_element_by_xpath( '//*[@id=\"ctl00_MainContent_uc_endeavour1_RTS_TrainingGene\"]/div/ul/li[4]/a')\n",
    "driver.execute_script('''\n",
    "                        arguments[0].setAttribute('class','rtsLink rtsBefore');\n",
    "                       ''',elem_hidden)\n",
    "\n",
    "elem_hidden = driver.find_element_by_xpath( '//*[@id=\"ctl00_MainContent_uc_endeavour1_RTS_TrainingGene\"]/div/ul/li[5]/a')\n",
    "driver.execute_script('''\n",
    "                        arguments[0].setAttribute('class','rtsLink rtsSelected');\n",
    "                       ''',elem_hidden)\n",
    "\n",
    "elem_hidden = driver.find_element_by_xpath('.//input[@id=\"ctl00_MainContent_uc_endeavour1_RTS_TrainingGene_ClientState\"]')\n",
    "driver.execute_script('''\n",
    "                        arguments[0].setAttribute('value','{\"selectedIndexes\":[\"4\"],\"logEntries\":[],\"scrollState\":{}}');\n",
    "                        ''',elem_hidden)\n",
    "\n",
    "elem_hidden = driver.find_element_by_xpath( '//*[@id=\"MainContent_uc_endeavour1_RPW_P1\"]')\n",
    "driver.execute_script('''\n",
    "                        arguments[0].setAttribute('class','rmpView corporatePageView rmpHidden');\n",
    "                       ''',elem_hidden)\n",
    "\n",
    "elem_hidden = driver.find_element_by_xpath( '//*[@id=\"MainContent_uc_endeavour1_RPW_P5\"]')\n",
    "driver.execute_script('''\n",
    "                        arguments[0].setAttribute('class','rmpView  corporatePageView');\n",
    "                       ''',elem_hidden)\n",
    "\n",
    "elem_hidden = driver.find_element_by_xpath('//*[@id=\"ctl00_MainContent_uc_endeavour1_RMP_TrainingGene_ClientState\"]')\n",
    "driver.execute_script('''\n",
    "                        arguments[0].setAttribute('value','{\"selectedIndex\":4,\"changeLog\":[]}');\n",
    "                        ''',elem_hidden)"
   ]
  },
  {
   "cell_type": "code",
   "execution_count": 80,
   "metadata": {
    "collapsed": false
   },
   "outputs": [],
   "source": [
    "#upload text file containing tab separated list of training genes\n",
    "file_input1 = driver.find_element_by_xpath('//*[@id=\"ctl00_MainContent_uc_endeavour1_RADUPT1file0\"]')\n",
    "file_input1.send_keys('C:\\Users\\Vishal\\Documents\\endeavour_test.txt')\n",
    "\n",
    "#wait introduced to allow time for the file name to get updated. Custom wait times can be introduced\n",
    "time.sleep(3)\n",
    "\n",
    "file_upload1 = driver.find_element_by_xpath('//*[@id=\"ctl00_MainContent_uc_endeavour1_Btn_Add_TrainingGen_File_input\"]')\n",
    "file_upload1.click()\n",
    "\n",
    "#Check if the file has been uploaded \n",
    "elem_style = driver.find_element_by_xpath('//*[@id=\"ctl00_MainContent_uc_endeavour1_RLB_TrainingGenes\"]').get_attribute(\"style\")\n",
    "itr=0\n",
    "while(elem_style == \"height: 300px; width: 100%;\" and itr <10):\n",
    "    elem_style = driver.find_element_by_xpath('//*[@id=\"ctl00_MainContent_uc_endeavour1_RLB_TrainingGenes\"]').get_attribute(\"style\")\n",
    "    time.sleep(2)\n",
    "    itr = itr+1\n",
    "\n",
    "#advance to the Data Sources tab\n",
    "next_button2 = driver.find_element_by_id('MainContent_uc_endeavour1_Btn_trg_Next')\n",
    "next_button2.click()"
   ]
  },
  {
   "cell_type": "code",
   "execution_count": 81,
   "metadata": {
    "collapsed": false
   },
   "outputs": [
    {
     "name": "stdout",
     "output_type": "stream",
     "text": [
      "12\n"
     ]
    }
   ],
   "source": [
    "source_index = [\"01\",\"16\",\"17\",\"29\",\"30\",\"31\",\"32\",\"33\",\"34\",\"35\",\"36\",\"37\"]\n",
    "source_name = [\"Annotation – Gene Ontology\",\"Annotation - GAD\",\"Annotation - OMIM\",\"Expression – Su et al (2002)\",\"Expression – Su et al (2004)\",\"Expression – CMAP\",\"Lukk et al\",\"Annotation – PaGenBase\",\"Annotation – CGAP\",\"Annotation – GNF\",\"Annotation - eGenetics\",\"Blast\"]\n",
    "source_count = str(len(source_index))\n",
    "print(source_count)"
   ]
  },
  {
   "cell_type": "code",
   "execution_count": 82,
   "metadata": {
    "collapsed": false
   },
   "outputs": [],
   "source": [
    "#sources loop\n",
    "#edit these two lists to choose your data sources  \n",
    "\n",
    "source_index = [\"01\",\"16\",\"17\",\"29\",\"30\",\"31\",\"32\",\"33\",\"34\",\"35\",\"36\",\"37\"]\n",
    "source_name = [\"Annotation – Gene Ontology\",\"Annotation - GAD\",\"Annotation - OMIM\",\"Expression – Su et al (2002)\",\"Expression – Su et al (2004)\",\"Expression – CMAP\",\"Lukk et al\",\"Annotation – PaGenBase\",\"Annotation – CGAP\",\"Annotation – GNF\",\"Annotation - eGenetics\",\"Blast\"]\n",
    "source_count = str(len(source_index))\n",
    "#select the data sources\n",
    "for idx in range(len(source_index)):\n",
    "    \n",
    "    source_xpath = \"ctl00_MainContent_uc_endeavour1_RB_hsapiens_Ds_\" + source_index[idx]                                         \n",
    "    source_all = driver.find_element_by_xpath('//*[@id = \\\"' + source_xpath + '\\\"]/span[1]')\n",
    "    \n",
    "    driver.execute_script('''\n",
    "                            arguments[0].setAttribute('class','rbPrimaryIcon rbToggleCheckboxChecked');\n",
    "                           ''',source_all)\n",
    "    \n",
    "    source_hidden_xpath = \"ctl00_MainContent_uc_endeavour1_RB_hsapiens_Ds_\" + source_index[idx] + \"_ClientState\"\n",
    "    source_hidden = driver.find_element_by_xpath('//*[@id = \\\"' + source_hidden_xpath +'\\\"]')\n",
    "    source_value = '{\"text\":\"' + source_name[idx] + '\",\"value\":\"\",\"checked\":true,\"target\":\"\",\"navigateUrl\":\"\",\"commandName\":\"\",\"commandArgument\":\"\",\"autoPostBack\":false,\"selectedToggleStateIndex\":0,\"validationGroup\":null,\"readOnly\":false,\"primary\":false,\"enabled\":true}'\n",
    "    \n",
    "    driver.execute_script('''\n",
    "                            arguments[0].setAttribute('value',arguments[1]);\n",
    "                            ''',source_hidden,source_value)\n",
    "    \n",
    "source_number = driver.find_element_by_xpath('//*[@id=\"MainContent_uc_endeavour1_lbl_Sel_datasets\"]')\n",
    "driver.execute_script(\"arguments[0].innerText = '10'\", source_number)\n",
    "\n",
    "file_upload2 = driver.find_element_by_xpath('//*[@id=\"MainContent_uc_endeavour1_Btn_Ds_Next\"]')\n",
    "file_upload2.click()\n"
   ]
  },
  {
   "cell_type": "code",
   "execution_count": 83,
   "metadata": {
    "collapsed": false
   },
   "outputs": [],
   "source": [
    "#change selection of data type from gene to tab\n",
    "#hidden elements can't be manipulated directly\n",
    "\n",
    "elem_hidden = driver.find_element_by_xpath( '//*[@id=\"ctl00_MainContent_uc_endeavour1_RTS_CanditaeGene\"]/div/ul/li[1]/a')\n",
    "driver.execute_script('''\n",
    "                        arguments[0].setAttribute('class','rtsLink');\n",
    "                       ''',elem_hidden)\n",
    "\n",
    "elem_hidden = driver.find_element_by_xpath( '//*[@id=\"ctl00_MainContent_uc_endeavour1_RTS_CanditaeGene\"]/div/ul/li[2]/a')\n",
    "driver.execute_script('''\n",
    "                        arguments[0].setAttribute('class','rtsLink');\n",
    "                       ''',elem_hidden) \n",
    "\n",
    "elem_hidden = driver.find_element_by_xpath( '//*[@id=\"ctl00_MainContent_uc_endeavour1_RTS_CanditaeGene\"]/div/ul/li[4]/a')\n",
    "driver.execute_script('''\n",
    "                        arguments[0].setAttribute('class','rtsLink rtsBefore');\n",
    "                       ''',elem_hidden)\n",
    "\n",
    "elem_hidden = driver.find_element_by_xpath( '//*[@id=\"ctl00_MainContent_uc_endeavour1_RTS_CanditaeGene\"]/div/ul/li[5]/a')\n",
    "driver.execute_script('''\n",
    "                        arguments[0].setAttribute('class','rtsLink rtsSelected');\n",
    "                       ''',elem_hidden)\n",
    "\n",
    "elem_hidden = driver.find_element_by_xpath( '//*[@id=\"ctl00_MainContent_uc_endeavour1_RTS_CanditaeGene_ClientState\"]')\n",
    "driver.execute_script('''\n",
    "                        arguments[0].setAttribute('value','{\"selectedIndexes\":[\"4\"],\"logEntries\":[],\"scrollState\":{}}');\n",
    "                        ''',elem_hidden)\n",
    "                     \n",
    "elem_hidden = driver.find_element_by_xpath( '//*[@id=\"MainContent_uc_endeavour1_RadPageView5\"]')\n",
    "driver.execute_script('''\n",
    "                        arguments[0].setAttribute('class','rmpView corporatePageView rmpHidden');\n",
    "                       ''',elem_hidden)\n",
    "\n",
    "\n",
    "elem_hidden = driver.find_element_by_xpath( '//*[@id=\"MainContent_uc_endeavour1_RadPageView9\"]')\n",
    "driver.execute_script('''\n",
    "                        arguments[0].setAttribute('class','rmpView  corporatePageView');\n",
    "                       ''',elem_hidden)\n",
    "\n",
    "elem_hidden = driver.find_element_by_xpath( '//*[@id=\"ctl00_MainContent_uc_endeavour1_RMP_CanditaeGene_ClientState\"]')\n",
    "driver.execute_script('''\n",
    "                        arguments[0].setAttribute('value','{\"selectedIndex\":4,\"changeLog\":[]}');\n",
    "                        ''',elem_hidden)\n",
    "                     \n"
   ]
  },
  {
   "cell_type": "code",
   "execution_count": 84,
   "metadata": {
    "collapsed": false
   },
   "outputs": [],
   "source": [
    "#uploading the list of candidate/testing genes\n",
    "\n",
    "file_candidate = driver.find_element_by_xpath('//*[@id=\"ctl00_MainContent_uc_endeavour1_RADUPT2file0\"]')\n",
    "file_candidate.send_keys('C:\\Users\\Vishal\\Documents\\endeavour_candidates.txt')\n",
    "time.sleep(3)\n",
    "\n",
    "file_upload2 = driver.find_element_by_xpath('//*[@id=\"ctl00_MainContent_uc_endeavour1_Btn_Add_Candidates_File_input\"]')\n",
    "file_upload2.click()\n"
   ]
  },
  {
   "cell_type": "code",
   "execution_count": 85,
   "metadata": {
    "collapsed": true
   },
   "outputs": [],
   "source": [
    "elem_style2 = driver.find_element_by_xpath('//*[@id=\"ctl00_MainContent_uc_endeavour1_RLB_Candidates\"]').get_attribute(\"style\")\n",
    "itr=0\n",
    "\n",
    "while(elem_style2 == \"height: 300px; width: 100%;\" and itr <20):\n",
    "    elem_style2 = driver.find_element_by_xpath('//*[@id=\"ctl00_MainContent_uc_endeavour1_RLB_Candidates\"]').get_attribute(\"style\")\n",
    "    time.sleep(2)\n",
    "    itr = itr+1\n",
    "    \n",
    "next_button2 = driver.find_element_by_id('MainContent_uc_endeavour1_Btn_Can_Finish')\n",
    "next_button2.click()\n",
    "\n",
    "try:\n",
    "    elem_load = WebDriverWait(driver, 300).until(\n",
    "        ec.presence_of_element_located((By.ID, \"export_selected\"))\n",
    "    )\n",
    "finally:\n",
    "    driver.find_element_by_xpath('//*[@id=\"export_selected\"]').click()\n",
    "    \n",
    "#export the results\n",
    "driver.find_element_by_xpath('//*[@id=\"export_selected\"]').click()"
   ]
  },
  {
   "cell_type": "code",
   "execution_count": null,
   "metadata": {
    "collapsed": false
   },
   "outputs": [],
   "source": []
  },
  {
   "cell_type": "code",
   "execution_count": 23,
   "metadata": {
    "collapsed": true
   },
   "outputs": [],
   "source": []
  },
  {
   "cell_type": "code",
   "execution_count": null,
   "metadata": {
    "collapsed": true
   },
   "outputs": [],
   "source": []
  }
 ],
 "metadata": {
  "kernelspec": {
   "display_name": "Python 2",
   "language": "python",
   "name": "python2"
  },
  "language_info": {
   "codemirror_mode": {
    "name": "ipython",
    "version": 2
   },
   "file_extension": ".py",
   "mimetype": "text/x-python",
   "name": "python",
   "nbconvert_exporter": "python",
   "pygments_lexer": "ipython2",
   "version": "2.7.13"
  }
 },
 "nbformat": 4,
 "nbformat_minor": 2
}
